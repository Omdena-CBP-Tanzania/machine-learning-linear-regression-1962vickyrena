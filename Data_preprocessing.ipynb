{
 "cells": [
  {
   "cell_type": "markdown",
   "id": "973183f3-d70b-4927-9178-6ccb6e919307",
   "metadata": {},
   "source": [
    "## Data preprocessing"
   ]
  },
  {
   "cell_type": "markdown",
   "id": "3e5fac01-be0f-48ee-81ca-7436cb124090",
   "metadata": {},
   "source": [
    "### Step 1:  importing important libraries"
   ]
  },
  {
   "cell_type": "code",
   "execution_count": 24,
   "id": "28f99d34-c9c2-4b41-87b1-1015d59003a1",
   "metadata": {},
   "outputs": [],
   "source": [
    "import numpy as  np\n",
    "import  pandas as pd\n",
    "import seaborn as sns\n",
    "import matplotlib.pyplot as plt\n",
    "from sklearn.model_selection  import train_test_split\n",
    "from sklearn.preprocessing  import StandardScaler\n",
    "from sklearn.preprocessing import OneHotEncoder\n"
   ]
  },
  {
   "cell_type": "markdown",
   "id": "6a9f946a-44d2-4b3b-bed7-59450ac1dc98",
   "metadata": {},
   "source": [
    "### Step 2:Handling the missing values and outliers"
   ]
  },
  {
   "cell_type": "code",
   "execution_count": 25,
   "id": "11350946-d3fe-45d6-8978-9748ceb01df9",
   "metadata": {},
   "outputs": [],
   "source": [
    "Boston_house=pd.read_csv(r\"C:\\Users\\hp\\OMDENA\\machine-learning-linear-regression-1962vickyrena\\BostonHousing.csv\")"
   ]
  },
  {
   "cell_type": "code",
   "execution_count": 26,
   "id": "a207899c-2960-495b-b32c-13119454f229",
   "metadata": {},
   "outputs": [
    {
     "data": {
      "text/html": [
       "<div>\n",
       "<style scoped>\n",
       "    .dataframe tbody tr th:only-of-type {\n",
       "        vertical-align: middle;\n",
       "    }\n",
       "\n",
       "    .dataframe tbody tr th {\n",
       "        vertical-align: top;\n",
       "    }\n",
       "\n",
       "    .dataframe thead th {\n",
       "        text-align: right;\n",
       "    }\n",
       "</style>\n",
       "<table border=\"1\" class=\"dataframe\">\n",
       "  <thead>\n",
       "    <tr style=\"text-align: right;\">\n",
       "      <th></th>\n",
       "      <th>crim</th>\n",
       "      <th>zn</th>\n",
       "      <th>indus</th>\n",
       "      <th>chas</th>\n",
       "      <th>nox</th>\n",
       "      <th>rm</th>\n",
       "      <th>age</th>\n",
       "      <th>dis</th>\n",
       "      <th>rad</th>\n",
       "      <th>tax</th>\n",
       "      <th>ptratio</th>\n",
       "      <th>b</th>\n",
       "      <th>lstat</th>\n",
       "      <th>medv</th>\n",
       "    </tr>\n",
       "  </thead>\n",
       "  <tbody>\n",
       "    <tr>\n",
       "      <th>0</th>\n",
       "      <td>0.00632</td>\n",
       "      <td>18.0</td>\n",
       "      <td>2.31</td>\n",
       "      <td>0</td>\n",
       "      <td>0.538</td>\n",
       "      <td>6.575</td>\n",
       "      <td>65.2</td>\n",
       "      <td>4.0900</td>\n",
       "      <td>1</td>\n",
       "      <td>296</td>\n",
       "      <td>15.3</td>\n",
       "      <td>396.90</td>\n",
       "      <td>4.98</td>\n",
       "      <td>24.0</td>\n",
       "    </tr>\n",
       "    <tr>\n",
       "      <th>1</th>\n",
       "      <td>0.02731</td>\n",
       "      <td>0.0</td>\n",
       "      <td>7.07</td>\n",
       "      <td>0</td>\n",
       "      <td>0.469</td>\n",
       "      <td>6.421</td>\n",
       "      <td>78.9</td>\n",
       "      <td>4.9671</td>\n",
       "      <td>2</td>\n",
       "      <td>242</td>\n",
       "      <td>17.8</td>\n",
       "      <td>396.90</td>\n",
       "      <td>9.14</td>\n",
       "      <td>21.6</td>\n",
       "    </tr>\n",
       "    <tr>\n",
       "      <th>2</th>\n",
       "      <td>0.02729</td>\n",
       "      <td>0.0</td>\n",
       "      <td>7.07</td>\n",
       "      <td>0</td>\n",
       "      <td>0.469</td>\n",
       "      <td>7.185</td>\n",
       "      <td>61.1</td>\n",
       "      <td>4.9671</td>\n",
       "      <td>2</td>\n",
       "      <td>242</td>\n",
       "      <td>17.8</td>\n",
       "      <td>392.83</td>\n",
       "      <td>4.03</td>\n",
       "      <td>34.7</td>\n",
       "    </tr>\n",
       "    <tr>\n",
       "      <th>3</th>\n",
       "      <td>0.03237</td>\n",
       "      <td>0.0</td>\n",
       "      <td>2.18</td>\n",
       "      <td>0</td>\n",
       "      <td>0.458</td>\n",
       "      <td>6.998</td>\n",
       "      <td>45.8</td>\n",
       "      <td>6.0622</td>\n",
       "      <td>3</td>\n",
       "      <td>222</td>\n",
       "      <td>18.7</td>\n",
       "      <td>394.63</td>\n",
       "      <td>2.94</td>\n",
       "      <td>33.4</td>\n",
       "    </tr>\n",
       "    <tr>\n",
       "      <th>4</th>\n",
       "      <td>0.06905</td>\n",
       "      <td>0.0</td>\n",
       "      <td>2.18</td>\n",
       "      <td>0</td>\n",
       "      <td>0.458</td>\n",
       "      <td>7.147</td>\n",
       "      <td>54.2</td>\n",
       "      <td>6.0622</td>\n",
       "      <td>3</td>\n",
       "      <td>222</td>\n",
       "      <td>18.7</td>\n",
       "      <td>396.90</td>\n",
       "      <td>5.33</td>\n",
       "      <td>36.2</td>\n",
       "    </tr>\n",
       "  </tbody>\n",
       "</table>\n",
       "</div>"
      ],
      "text/plain": [
       "      crim    zn  indus  chas    nox     rm   age     dis  rad  tax  ptratio  \\\n",
       "0  0.00632  18.0   2.31     0  0.538  6.575  65.2  4.0900    1  296     15.3   \n",
       "1  0.02731   0.0   7.07     0  0.469  6.421  78.9  4.9671    2  242     17.8   \n",
       "2  0.02729   0.0   7.07     0  0.469  7.185  61.1  4.9671    2  242     17.8   \n",
       "3  0.03237   0.0   2.18     0  0.458  6.998  45.8  6.0622    3  222     18.7   \n",
       "4  0.06905   0.0   2.18     0  0.458  7.147  54.2  6.0622    3  222     18.7   \n",
       "\n",
       "        b  lstat  medv  \n",
       "0  396.90   4.98  24.0  \n",
       "1  396.90   9.14  21.6  \n",
       "2  392.83   4.03  34.7  \n",
       "3  394.63   2.94  33.4  \n",
       "4  396.90   5.33  36.2  "
      ]
     },
     "execution_count": 26,
     "metadata": {},
     "output_type": "execute_result"
    }
   ],
   "source": [
    "Boston_house.head()"
   ]
  },
  {
   "cell_type": "code",
   "execution_count": 27,
   "id": "4116bba5-7fa4-4657-80ed-c781553b30f5",
   "metadata": {},
   "outputs": [
    {
     "data": {
      "text/plain": [
       "crim       0\n",
       "zn         0\n",
       "indus      0\n",
       "chas       0\n",
       "nox        0\n",
       "rm         0\n",
       "age        0\n",
       "dis        0\n",
       "rad        0\n",
       "tax        0\n",
       "ptratio    0\n",
       "b          0\n",
       "lstat      0\n",
       "medv       0\n",
       "dtype: int64"
      ]
     },
     "execution_count": 27,
     "metadata": {},
     "output_type": "execute_result"
    }
   ],
   "source": [
    "### Step 3:Checking  missing values\n",
    "Boston_house.isnull().sum()"
   ]
  },
  {
   "cell_type": "markdown",
   "id": "81c6394c-fce7-46ba-b4f8-35f5066d5025",
   "metadata": {},
   "source": [
    "### Step 4:Encoding categorical variable"
   ]
  },
  {
   "cell_type": "code",
   "execution_count": 28,
   "id": "b08c9a19-0924-4bee-80df-ce17ed62ca03",
   "metadata": {},
   "outputs": [
    {
     "name": "stdout",
     "output_type": "stream",
     "text": [
      "<class 'pandas.core.frame.DataFrame'>\n",
      "RangeIndex: 506 entries, 0 to 505\n",
      "Data columns (total 14 columns):\n",
      " #   Column   Non-Null Count  Dtype  \n",
      "---  ------   --------------  -----  \n",
      " 0   crim     506 non-null    float64\n",
      " 1   zn       506 non-null    float64\n",
      " 2   indus    506 non-null    float64\n",
      " 3   chas     506 non-null    int64  \n",
      " 4   nox      506 non-null    float64\n",
      " 5   rm       506 non-null    float64\n",
      " 6   age      506 non-null    float64\n",
      " 7   dis      506 non-null    float64\n",
      " 8   rad      506 non-null    int64  \n",
      " 9   tax      506 non-null    int64  \n",
      " 10  ptratio  506 non-null    float64\n",
      " 11  b        506 non-null    float64\n",
      " 12  lstat    506 non-null    float64\n",
      " 13  medv     506 non-null    float64\n",
      "dtypes: float64(11), int64(3)\n",
      "memory usage: 55.5 KB\n"
     ]
    }
   ],
   "source": [
    "Boston_house.info()"
   ]
  },
  {
   "cell_type": "code",
   "execution_count": 29,
   "id": "bee09285-6021-49ec-a6c2-9bd9204bebe8",
   "metadata": {},
   "outputs": [
    {
     "name": "stdout",
     "output_type": "stream",
     "text": [
      "        crim    zn  indus  chas    nox     rm   age     dis  tax  ptratio  \\\n",
      "0    0.00632  18.0   2.31     0  0.538  6.575  65.2  4.0900  296     15.3   \n",
      "1    0.02731   0.0   7.07     0  0.469  6.421  78.9  4.9671  242     17.8   \n",
      "2    0.02729   0.0   7.07     0  0.469  7.185  61.1  4.9671  242     17.8   \n",
      "3    0.03237   0.0   2.18     0  0.458  6.998  45.8  6.0622  222     18.7   \n",
      "4    0.06905   0.0   2.18     0  0.458  7.147  54.2  6.0622  222     18.7   \n",
      "..       ...   ...    ...   ...    ...    ...   ...     ...  ...      ...   \n",
      "501  0.06263   0.0  11.93     0  0.573  6.593  69.1  2.4786  273     21.0   \n",
      "502  0.04527   0.0  11.93     0  0.573  6.120  76.7  2.2875  273     21.0   \n",
      "503  0.06076   0.0  11.93     0  0.573  6.976  91.0  2.1675  273     21.0   \n",
      "504  0.10959   0.0  11.93     0  0.573  6.794  89.3  2.3889  273     21.0   \n",
      "505  0.04741   0.0  11.93     0  0.573  6.030  80.8  2.5050  273     21.0   \n",
      "\n",
      "     ...  medv  rad_1  rad_2  rad_3  rad_4  rad_5  rad_6  rad_7  rad_8  rad_24  \n",
      "0    ...  24.0      1      0      0      0      0      0      0      0       0  \n",
      "1    ...  21.6      0      1      0      0      0      0      0      0       0  \n",
      "2    ...  34.7      0      1      0      0      0      0      0      0       0  \n",
      "3    ...  33.4      0      0      1      0      0      0      0      0       0  \n",
      "4    ...  36.2      0      0      1      0      0      0      0      0       0  \n",
      "..   ...   ...    ...    ...    ...    ...    ...    ...    ...    ...     ...  \n",
      "501  ...  22.4      1      0      0      0      0      0      0      0       0  \n",
      "502  ...  20.6      1      0      0      0      0      0      0      0       0  \n",
      "503  ...  23.9      1      0      0      0      0      0      0      0       0  \n",
      "504  ...  22.0      1      0      0      0      0      0      0      0       0  \n",
      "505  ...  11.9      1      0      0      0      0      0      0      0       0  \n",
      "\n",
      "[506 rows x 22 columns]\n"
     ]
    }
   ],
   "source": [
    "### Step 5: converting categorical data to  binary(rad)\n",
    "encoded_data=pd.get_dummies(Boston_house , columns=[\"rad\"],dtype=int)\n",
    "print(encoded_data)                     "
   ]
  },
  {
   "cell_type": "markdown",
   "id": "86018558-9e50-458f-9054-3eb62d4caf16",
   "metadata": {},
   "source": [
    "### Step 6: Normalize/standardize  numerical data"
   ]
  },
  {
   "cell_type": "code",
   "execution_count": 30,
   "id": "134af6f9-aed0-4264-b012-10c08bafae45",
   "metadata": {},
   "outputs": [],
   "source": [
    "# Define features (X) and target variable (y)\n",
    "X = encoded_data.drop(columns=['medv'])\n",
    "y = encoded_data['medv']\n",
    "\n",
    "# Standardize features\n",
    "scaler = StandardScaler()\n",
    "X_scaled = scaler.fit_transform(X)\n",
    "\n",
    "# Convert back to DataFrame\n",
    "X = pd.DataFrame(X_scaled, columns=X.columns)"
   ]
  },
  {
   "cell_type": "markdown",
   "id": "ebbe40f0-d612-4dff-a08b-b3e32adbdb20",
   "metadata": {},
   "source": [
    "### step 7: Selecting  best features to be used"
   ]
  },
  {
   "cell_type": "code",
   "execution_count": 31,
   "id": "8fe750c7-417f-46ca-a444-f2c208b0eda0",
   "metadata": {},
   "outputs": [
    {
     "name": "stdout",
     "output_type": "stream",
     "text": [
      "Best Features for Prediction: ['crim', 'zn', 'nox', 'rm', 'dis', 'tax', 'ptratio', 'b', 'lstat', 'rad_24']\n"
     ]
    }
   ],
   "source": [
    "from sklearn.linear_model import LinearRegression\n",
    "from sklearn.feature_selection import RFE\n",
    "\n",
    "# Initialize the Linear Regression model\n",
    "model = LinearRegression()\n",
    "\n",
    "#RFE selects the top 5 most predictive features\n",
    "selector = RFE(model, n_features_to_select=10)\n",
    "selector.fit(X, y)\n",
    "\n",
    "# Get selected features\n",
    "selected_features = X.columns[selector.support_]\n",
    "print(\"Best Features for Prediction:\", list(selected_features))"
   ]
  },
  {
   "cell_type": "markdown",
   "id": "437d28c2-e1a5-43c8-bc74-e3454a61c591",
   "metadata": {},
   "source": [
    "### Step 8:Spliting data into training and  testing"
   ]
  },
  {
   "cell_type": "code",
   "execution_count": 34,
   "id": "8f7306fc-e37f-4e76-9e09-31c9ae64256d",
   "metadata": {},
   "outputs": [
    {
     "name": "stdout",
     "output_type": "stream",
     "text": [
      "Train shape: (404, 10), Test shape: (102, 10)\n"
     ]
    }
   ],
   "source": [
    "# Select only the chosen features from X\n",
    "X_selected = X[selected_features]  \n",
    "\n",
    "\n",
    "# Split into 80% training and 20% testing\n",
    "\n",
    "X_train, X_test, y_train, y_test = train_test_split(X_selected, y, test_size=0.2, random_state=42)\n",
    "\n",
    "# Print shapes\n",
    "print(f\"Train shape: {X_train.shape}, Test shape: {X_test.shape}\")"
   ]
  },
  {
   "cell_type": "markdown",
   "id": "14032693-2d3d-4a6b-83ba-61053769fbae",
   "metadata": {},
   "source": [
    "### step 9: Saving Dataframes into a new CSV"
   ]
  },
  {
   "cell_type": "code",
   "execution_count": 35,
   "id": "d71fbca1-189d-453c-8e42-e742095f100b",
   "metadata": {},
   "outputs": [],
   "source": [
    "# Save the processed data\n",
    "X_train.to_csv(\"X_train.csv\", index=False)\n",
    "X_test.to_csv(\"X_test.csv\", index=False)\n",
    "y_train.to_csv(\"y_train.csv\", index=False)\n",
    "y_test.to_csv(\"y_test.csv\", index=False)\n"
   ]
  }
 ],
 "metadata": {
  "kernelspec": {
   "display_name": "Python 3 (ipykernel)",
   "language": "python",
   "name": "python3"
  },
  "language_info": {
   "codemirror_mode": {
    "name": "ipython",
    "version": 3
   },
   "file_extension": ".py",
   "mimetype": "text/x-python",
   "name": "python",
   "nbconvert_exporter": "python",
   "pygments_lexer": "ipython3",
   "version": "3.13.1"
  }
 },
 "nbformat": 4,
 "nbformat_minor": 5
}
